# data_processing_test.ipynb

import pandas as pd
from data_processing import run_data_processing_pipeline, TARGET_COLUMN

# --- テスト用データファイルパス ---
DATA_FILE = 'BTCUSDT_5m_data_max.csv'

# --- データ処理パイプラインを実行 ---
X_train, y_train, X_val, y_val, X_test, y_test = run_data_processing_pipeline(DATA_FILE)

# --- 結果の確認 ---
print("\n--- Data Processing Pipeline Finished ---")
print(f"X_train shape: {X_train.shape}")
print(f"y_train shape: {y_train.shape}")
print(f"X_val shape: {X_val.shape}")
print(f"y_val shape: {y_val.shape}")
print(f"X_test shape: {X_test.shape}")
print(f"y_test shape: {y_test.shape}")

# --- データの先頭を表示 (オプション) ---
print("\n--- X_train Head ---")
print(X_train.head())

print("\n--- y_train Head ---")
print(y_train.head())

# --- データの統計量を表示 (オプション) ---
print("\n--- X_train Describe ---")
print(X_train.describe())

print("\n--- y_train Value Counts ---")
print(y_train.value_counts())